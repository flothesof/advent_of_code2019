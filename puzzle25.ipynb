{
 "cells": [
  {
   "cell_type": "code",
   "execution_count": 8,
   "metadata": {},
   "outputs": [],
   "source": [
    "def prints2ascii(prints, prune=True):\n",
    "    ascii_prints = \"\".join(map(chr, prints)).split('\\n')\n",
    "    if prune:\n",
    "        ascii_prints = [row for row in ascii_prints if len(row) > 0]\n",
    "    return ascii_prints"
   ]
  },
  {
   "cell_type": "code",
   "execution_count": 38,
   "metadata": {},
   "outputs": [],
   "source": [
    "from intcode import IntCodeComputer\n",
    "\n",
    "program = list(map(int, open('data/input25').read().strip().split(',')))\n",
    "computer = IntCodeComputer(program, resume=True)"
   ]
  },
  {
   "cell_type": "code",
   "execution_count": 39,
   "metadata": {},
   "outputs": [],
   "source": [
    "_, prints, status = computer.run(input_values=[])"
   ]
  },
  {
   "cell_type": "code",
   "execution_count": 40,
   "metadata": {},
   "outputs": [
    {
     "data": {
      "text/plain": [
       "<IntCodeStatus.WAITING_FOR_INPUT: 1>"
      ]
     },
     "execution_count": 40,
     "metadata": {},
     "output_type": "execute_result"
    }
   ],
   "source": [
    "status"
   ]
  },
  {
   "cell_type": "code",
   "execution_count": 73,
   "metadata": {},
   "outputs": [
    {
     "data": {
      "text/plain": [
       "['You see evidence here of prototype polymer design work.',\n",
       " 'Doors here lead:',\n",
       " '- north',\n",
       " '- south',\n",
       " '- west',\n",
       " 'Items here:',\n",
       " '- bowl of rice',\n",
       " 'Command?',\n",
       " 'You take the bowl of rice.',\n",
       " 'Command?']"
      ]
     },
     "execution_count": 73,
     "metadata": {},
     "output_type": "execute_result"
    }
   ],
   "source": [
    "prints2ascii(prints, prune=True)[-10:]"
   ]
  },
  {
   "cell_type": "code",
   "execution_count": 72,
   "metadata": {},
   "outputs": [],
   "source": [
    "cmd = 'take bowl of rice\\n'\n",
    "ascii_cmd = [ord(char) for char in cmd]\n",
    "_, prints, status = computer.run(input_values=ascii_cmd)"
   ]
  },
  {
   "cell_type": "code",
   "execution_count": null,
   "metadata": {},
   "outputs": [],
   "source": []
  }
 ],
 "metadata": {
  "kernelspec": {
   "display_name": "Python 3",
   "language": "python",
   "name": "python3"
  },
  "language_info": {
   "codemirror_mode": {
    "name": "ipython",
    "version": 3
   },
   "file_extension": ".py",
   "mimetype": "text/x-python",
   "name": "python",
   "nbconvert_exporter": "python",
   "pygments_lexer": "ipython3",
   "version": "3.7.3"
  }
 },
 "nbformat": 4,
 "nbformat_minor": 2
}
