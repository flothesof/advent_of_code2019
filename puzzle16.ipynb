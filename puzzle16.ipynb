{
 "cells": [
  {
   "cell_type": "code",
   "execution_count": 9,
   "metadata": {},
   "outputs": [],
   "source": [
    "from puzzle16 import *"
   ]
  },
  {
   "cell_type": "code",
   "execution_count": 2,
   "metadata": {},
   "outputs": [
    {
     "name": "stdout",
     "output_type": "stream",
     "text": [
      "32 ms ± 630 µs per loop (mean ± std. dev. of 7 runs, 10 loops each)\n"
     ]
    }
   ],
   "source": [
    "%timeit apply_ntimes(list(map(int, \"80871224585914546619083218645595\")), 100)"
   ]
  },
  {
   "cell_type": "code",
   "execution_count": 3,
   "metadata": {},
   "outputs": [
    {
     "name": "stdout",
     "output_type": "stream",
     "text": [
      "25 ms ± 3.25 ms per loop (mean ± std. dev. of 7 runs, 10 loops each)\n"
     ]
    }
   ],
   "source": [
    "%timeit apply_ntimes2(list(map(int, \"80871224585914546619083218645595\")), 100)"
   ]
  },
  {
   "cell_type": "code",
   "execution_count": 4,
   "metadata": {},
   "outputs": [],
   "source": [
    "def plot_pattern(ax=None, input_len=100):\n",
    "    coef_mat = np.empty((input_len, input_len))\n",
    "    for output_phase in range(1, input_len + 1):\n",
    "        iter = pattern_iter(gen_pattern(output_phase))\n",
    "        row = take(input_len, iter)\n",
    "        coef_mat[output_phase - 1] = row\n",
    "    ax.imshow(coef_mat)"
   ]
  },
  {
   "cell_type": "code",
   "execution_count": 5,
   "metadata": {},
   "outputs": [
    {
     "data": {
      "image/png": "[encoded data removed]",
      "text/plain": [
       "<Figure size 432x288 with 1 Axes>"
      ]
     },
     "metadata": {
      "needs_background": "light"
     },
     "output_type": "display_data"
    }
   ],
   "source": [
    "fig, ax = plt.subplots()\n",
    "plot_pattern(ax, 10)"
   ]
  },
  {
   "cell_type": "code",
   "execution_count": 6,
   "metadata": {},
   "outputs": [
    {
     "data": {
      "image/png": "[encoded data removed]",
      "text/plain": [
       "<Figure size 864x288 with 3 Axes>"
      ]
     },
     "metadata": {
      "needs_background": "light"
     },
     "output_type": "display_data"
    }
   ],
   "source": [
    "fig, ax = plt.subplots(ncols=3, figsize=(12, 4), sharex=True, sharey=True)\n",
    "plot_pattern(ax[0], 10)\n",
    "plot_pattern(ax[1], 20)\n",
    "plot_pattern(ax[2], 30)"
   ]
  },
  {
   "cell_type": "code",
   "execution_count": 7,
   "metadata": {},
   "outputs": [
    {
     "data": {
      "image/png": "[encoded data removed]",
      "text/plain": [
       "<Figure size 864x288 with 3 Axes>"
      ]
     },
     "metadata": {
      "needs_background": "light"
     },
     "output_type": "display_data"
    }
   ],
   "source": [
    "fig, ax = plt.subplots(ncols=3, figsize=(12, 4), sharex=True, sharey=True)\n",
    "plot_pattern(ax[0], 100)\n",
    "plot_pattern(ax[1], 200)\n",
    "plot_pattern(ax[2], 300)"
   ]
  },
  {
   "cell_type": "code",
   "execution_count": 8,
   "metadata": {},
   "outputs": [],
   "source": [
    "import numba as nb"
   ]
  },
  {
   "cell_type": "code",
   "execution_count": 35,
   "metadata": {},
   "outputs": [],
   "source": [
    "@nb.jit\n",
    "def keep_ones_digit(n):\n",
    "    return (abs(n) % 10) * np.sign(n)\n",
    "\n",
    "@nb.jit\n",
    "def gen_pattern(output_elem):\n",
    "    pattern = []\n",
    "    base_pattern = [0, 1, 0, -1]\n",
    "    for elem in base_pattern:\n",
    "        pattern.extend([elem for _ in range(output_elem)])\n",
    "    return pattern\n",
    "@nb.jit\n",
    "def pattern_iter(pattern, index=0, skipped_first=False):\n",
    "    while True:\n",
    "        if index == 0:\n",
    "            if not skipped_first:\n",
    "                skipped_first = True\n",
    "            else:\n",
    "                yield pattern[index]\n",
    "        else:\n",
    "            yield pattern[index]\n",
    "        index = (index + 1) % len(pattern)\n",
    "\n",
    "@nb.jit\n",
    "def apply3(input_signal):\n",
    "    output_signal = []\n",
    "    for output_phase in range(1, len(input_signal) + 1):\n",
    "        iter = pattern_iter(gen_pattern(output_phase), index=output_phase, skipped_first=True)\n",
    "        s = 0\n",
    "        for i, p in zip(input_signal[output_phase - 1:], iter):\n",
    "            s += i * p\n",
    "        s = keep_ones_digit(s)\n",
    "        output_signal.append(s)\n",
    "    return output_signal\n",
    "\n",
    "@nb.jit\n",
    "def apply_ntimes3(input_signal, n):\n",
    "    signal = input_signal[:]\n",
    "    for _ in range(n):\n",
    "        signal = apply3(signal)\n",
    "    return signal"
   ]
  },
  {
   "cell_type": "code",
   "execution_count": 36,
   "metadata": {},
   "outputs": [
    {
     "data": {
      "text/plain": [
       "[4, 8, 2, 2, 6, 1, 5, 8]"
      ]
     },
     "execution_count": 36,
     "metadata": {},
     "output_type": "execute_result"
    }
   ],
   "source": [
    "apply(list(map(int, \"12345678\")), debug=False)"
   ]
  },
  {
   "cell_type": "code",
   "execution_count": 37,
   "metadata": {},
   "outputs": [
    {
     "name": "stderr",
     "output_type": "stream",
     "text": [
      "C:\\Anaconda3\\envs\\ipyvolume\\lib\\site-packages\\numba\\ir_utils.py:1969: NumbaPendingDeprecationWarning: \u001b[1m\n",
      "Encountered the use of a type that is scheduled for deprecation: type 'reflected list' found for argument 'input_signal' of function 'apply3'.\n",
      "\n",
      "For more information visit http://numba.pydata.org/numba-doc/latest/reference/deprecation.html#deprecation-of-reflection-for-list-and-set-types\n",
      "\u001b[1m\n",
      "File \"<ipython-input-35-d0e4757606a3>\", line 25:\u001b[0m\n",
      "\u001b[1m@nb.jit\n",
      "\u001b[1mdef apply3(input_signal):\n",
      "\u001b[0m\u001b[1m^\u001b[0m\u001b[0m\n",
      "\u001b[0m\n",
      "  warnings.warn(NumbaPendingDeprecationWarning(msg, loc=loc))\n"
     ]
    },
    {
     "data": {
      "text/plain": [
       "[-4, -8, 2, 2, 6, 1, 5, 8]"
      ]
     },
     "execution_count": 37,
     "metadata": {},
     "output_type": "execute_result"
    }
   ],
   "source": [
    "apply3(list(map(int, \"12345678\")))"
   ]
  },
  {
   "cell_type": "code",
   "execution_count": 38,
   "metadata": {},
   "outputs": [
    {
     "name": "stdout",
     "output_type": "stream",
     "text": [
      "738 µs ± 41.1 µs per loop (mean ± std. dev. of 7 runs, 1000 loops each)\n"
     ]
    }
   ],
   "source": [
    "%timeit apply(list(map(int, \"12345678120484001380128191234567812048400138012819\")))"
   ]
  },
  {
   "cell_type": "code",
   "execution_count": 39,
   "metadata": {},
   "outputs": [
    {
     "name": "stdout",
     "output_type": "stream",
     "text": [
      "290 µs ± 2.46 µs per loop (mean ± std. dev. of 7 runs, 1000 loops each)\n"
     ]
    }
   ],
   "source": [
    "%timeit apply3(list(map(int, \"12345678120484001380128191234567812048400138012819\")))"
   ]
  },
  {
   "cell_type": "code",
   "execution_count": 42,
   "metadata": {},
   "outputs": [
    {
     "name": "stdout",
     "output_type": "stream",
     "text": [
      "8.7 ms ± 1.54 ms per loop (mean ± std. dev. of 7 runs, 100 loops each)\n"
     ]
    }
   ],
   "source": [
    "%timeit apply_ntimes(list(map(int, \"12345678120484001380128191234567812048400138012819\")), 10)"
   ]
  },
  {
   "cell_type": "code",
   "execution_count": 41,
   "metadata": {},
   "outputs": [
    {
     "name": "stdout",
     "output_type": "stream",
     "text": [
      "2.28 ms ± 96.8 µs per loop (mean ± std. dev. of 7 runs, 100 loops each)\n"
     ]
    }
   ],
   "source": [
    "%timeit apply_ntimes3(list(map(int, \"12345678120484001380128191234567812048400138012819\")), 10)"
   ]
  },
  {
   "cell_type": "code",
   "execution_count": 44,
   "metadata": {},
   "outputs": [],
   "source": [
    "input_list = list(map(int, open('data/input16').read().strip()))"
   ]
  },
  {
   "cell_type": "code",
   "execution_count": 45,
   "metadata": {},
   "outputs": [
    {
     "data": {
      "text/plain": [
       "650"
      ]
     },
     "execution_count": 45,
     "metadata": {},
     "output_type": "execute_result"
    }
   ],
   "source": [
    "len(input_list)"
   ]
  },
  {
   "cell_type": "code",
   "execution_count": 49,
   "metadata": {},
   "outputs": [],
   "source": [
    "input_list = list(map(int, \"03036732577212944063491565474664\")) * 10000"
   ]
  },
  {
   "cell_type": "code",
   "execution_count": 50,
   "metadata": {},
   "outputs": [
    {
     "data": {
      "text/plain": [
       "320000"
      ]
     },
     "execution_count": 50,
     "metadata": {},
     "output_type": "execute_result"
    }
   ],
   "source": [
    "len(input_list)"
   ]
  },
  {
   "cell_type": "code",
   "execution_count": null,
   "metadata": {},
   "outputs": [],
   "source": [
    "result = apply_ntimes3(input_list, 100)"
   ]
  },
  {
   "cell_type": "code",
   "execution_count": null,
   "metadata": {},
   "outputs": [],
   "source": []
  }
 ],
 "metadata": {
  "kernelspec": {
   "display_name": "Python 3",
   "language": "python",
   "name": "python3"
  },
  "language_info": {
   "codemirror_mode": {
    "name": "ipython",
    "version": 3
   },
   "file_extension": ".py",
   "mimetype": "text/x-python",
   "name": "python",
   "nbconvert_exporter": "python",
   "pygments_lexer": "ipython3",
   "version": "3.7.3"
  }
 },
 "nbformat": 4,
 "nbformat_minor": 2
}
