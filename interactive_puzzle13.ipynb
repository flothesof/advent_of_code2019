{
 "cells": [
  {
   "cell_type": "code",
   "execution_count": 1,
   "metadata": {},
   "outputs": [],
   "source": [
    "%matplotlib widget"
   ]
  },
  {
   "cell_type": "code",
   "execution_count": 2,
   "metadata": {},
   "outputs": [
    {
     "name": "stdout",
     "output_type": "stream",
     "text": [
      "all tests running\n",
      "solution for part1: 2399197539\n",
      "solution for part2: 35106\n",
      "solution for part1: 306\n",
      "solution for part1: 1\n",
      "score: 0\n",
      "score: 0\n"
     ]
    }
   ],
   "source": [
    "import matplotlib.pyplot as plt\n",
    "import ipywidgets as widgets\n",
    "from IPython import display\n",
    "from puzzle13 import *"
   ]
  },
  {
   "cell_type": "code",
   "execution_count": 3,
   "metadata": {},
   "outputs": [],
   "source": [
    "input_values_save = [[0,\n",
    " 0,\n",
    " 0,\n",
    " 0,\n",
    " 0,\n",
    " 0,\n",
    " 0,\n",
    " 0,\n",
    " 0,\n",
    " 0,\n",
    " 0,\n",
    " -1,\n",
    " -1,\n",
    " -1,\n",
    " -1,\n",
    " -1,\n",
    " -1,\n",
    " -1,\n",
    " -1,\n",
    " -1,\n",
    " -1,\n",
    " -1,\n",
    " -1,\n",
    " -1,\n",
    " -1,\n",
    " 0,\n",
    " 1,\n",
    " 1,\n",
    " 1,\n",
    " -1,\n",
    " 0,\n",
    " 0,\n",
    " 0,\n",
    " 0,\n",
    " -1,\n",
    " 0,\n",
    " 0,\n",
    " -1,\n",
    " 0]]"
   ]
  },
  {
   "cell_type": "code",
   "execution_count": 44,
   "metadata": {},
   "outputs": [],
   "source": [
    "def reset_game():\n",
    "    global input_values, program\n",
    "    input_values = list()\n",
    "    program = list(map(int, open('data/input13').read().split(',')))\n",
    "    program[0] = 2 # to play\n",
    "    state, prints, is_finished = run(program, input_values=input_values[:])\n",
    "    if not is_finished:\n",
    "        screen = prints2screen(prints)\n",
    "        arr = render(screen)\n",
    "        with output:\n",
    "            ax.imshow(arr)\n",
    "            display.clear_output(wait=True)\n",
    "            display.display(fig)\n",
    "    else:\n",
    "        print('finished')\n",
    "\n",
    "\n",
    "def on_left():\n",
    "    global input_values, screen, program\n",
    "    input_values.append(-1)\n",
    "    state, prints, is_finished = run(program, input_values=input_values[:])\n",
    "    if not is_finished:\n",
    "        screen = prints2screen(prints)\n",
    "        arr = render(screen)\n",
    "        with output:\n",
    "            ax.imshow(arr)\n",
    "            display.clear_output(wait=True)\n",
    "            display.display(fig)\n",
    "    else:\n",
    "        with output:\n",
    "            print('game seemed finished')\n",
    "        \n",
    "def on_right():\n",
    "    global input_values, screen, program\n",
    "    input_values.append(1)\n",
    "    state, prints, is_finished = run(program, input_values=input_values[:])\n",
    "    if not is_finished:\n",
    "        screen = prints2screen(prints)\n",
    "        arr = render(screen)\n",
    "        with output:\n",
    "            ax.imshow(arr)\n",
    "            display.clear_output(wait=True)\n",
    "            display.display(fig)\n",
    "    else:\n",
    "        with output:\n",
    "            print('game seemed finished')\n",
    "\n",
    "def on_neutral():\n",
    "    global input_values, screen, program\n",
    "    input_values.append(0)\n",
    "    state, prints, is_finished = run(program, input_values=input_values[:])\n",
    "    if not is_finished:\n",
    "        screen = prints2screen(prints)\n",
    "        arr = render(screen)\n",
    "        with output:\n",
    "            ax.imshow(arr)\n",
    "            display.clear_output(wait=True)\n",
    "            display.display(fig)\n",
    "    else:\n",
    "        with output:\n",
    "            print('game seemed finished')\n",
    "        \n",
    "def on_save():\n",
    "    global input_values, input_values_save\n",
    "    input_values_save.append(input_values[:])\n",
    "    \n",
    "def on_restore():\n",
    "    global input_values, input_values_save\n",
    "    input_values = input_values_save[-1][:]\n",
    "    state, prints, is_finished = run(program, input_values=input_values[:])\n",
    "    if not is_finished:\n",
    "        screen = prints2screen(prints)\n",
    "        arr = render(screen)\n",
    "        with output:\n",
    "            ax.imshow(arr)\n",
    "            display.clear_output(wait=True)\n",
    "            display.display(fig)\n",
    "    else:\n",
    "        with output:\n",
    "            print('game seemed finished')\n",
    "        \n",
    "left = widgets.Button(description='left')\n",
    "neutral = widgets.Button(description='neutral')\n",
    "right = widgets.Button(description='right')\n",
    "reset = widgets.Button(description='reset')\n",
    "save = widgets.Button(description='save')\n",
    "restore = widgets.Button(description='restore state')\n",
    "output = widgets.Output()\n",
    "plt.ioff()\n",
    "figsize = (5, 5)\n",
    "fig, ax = plt.subplots(1, 1, figsize=figsize)\n",
    "plt.ion()\n",
    "controls = widgets.HBox([left, neutral, right, reset, restore, save])\n",
    "\n",
    "left.on_click(lambda ev: on_left())\n",
    "neutral.on_click(lambda ev: on_neutral())\n",
    "right.on_click(lambda ev: on_right())\n",
    "reset.on_click(lambda ev: reset_game())\n",
    "restore.on_click(lambda ev: on_restore())\n",
    "save.on_click(lambda ev: on_save())"
   ]
  },
  {
   "cell_type": "code",
   "execution_count": 45,
   "metadata": {},
   "outputs": [
    {
     "data": {
      "application/vnd.jupyter.widget-view+json": {
       "model_id": "152727ed3d184b389839c7b7a9d7d891",
       "version_major": 2,
       "version_minor": 0
      },
      "text/plain": [
       "HBox(children=(Button(description='left', style=ButtonStyle()), Button(description='neutral', style=ButtonStyl…"
      ]
     },
     "metadata": {},
     "output_type": "display_data"
    },
    {
     "data": {
      "application/vnd.jupyter.widget-view+json": {
       "model_id": "3637c16f16d9404388b205c82f237e9d",
       "version_major": 2,
       "version_minor": 0
      },
      "text/plain": [
       "Output()"
      ]
     },
     "metadata": {},
     "output_type": "display_data"
    }
   ],
   "source": [
    "display.display(controls, output)"
   ]
  },
  {
   "cell_type": "code",
   "execution_count": 19,
   "metadata": {},
   "outputs": [
    {
     "data": {
      "text/plain": [
       "5"
      ]
     },
     "execution_count": 19,
     "metadata": {},
     "output_type": "execute_result"
    }
   ],
   "source": [
    "len(input_values_save)"
   ]
  },
  {
   "cell_type": "code",
   "execution_count": 28,
   "metadata": {},
   "outputs": [
    {
     "data": {
      "text/plain": [
       "[0,\n",
       " 0,\n",
       " 0,\n",
       " 0,\n",
       " 0,\n",
       " 0,\n",
       " 0,\n",
       " 0,\n",
       " 0,\n",
       " 0,\n",
       " 0,\n",
       " -1,\n",
       " -1,\n",
       " -1,\n",
       " -1,\n",
       " -1,\n",
       " -1,\n",
       " -1,\n",
       " -1,\n",
       " -1,\n",
       " -1,\n",
       " -1,\n",
       " -1,\n",
       " -1,\n",
       " -1,\n",
       " 0,\n",
       " 1,\n",
       " 1,\n",
       " 1,\n",
       " -1,\n",
       " 0,\n",
       " 0,\n",
       " 0,\n",
       " 0,\n",
       " -1,\n",
       " 0,\n",
       " 0,\n",
       " -1,\n",
       " 0,\n",
       " 0,\n",
       " 0,\n",
       " 1,\n",
       " -1,\n",
       " 0,\n",
       " 0,\n",
       " 0,\n",
       " 0,\n",
       " 0,\n",
       " 0,\n",
       " 0,\n",
       " 0,\n",
       " 0,\n",
       " -1,\n",
       " 0,\n",
       " 0,\n",
       " 0,\n",
       " 0,\n",
       " 0,\n",
       " 0,\n",
       " 0,\n",
       " 0,\n",
       " 0,\n",
       " 0,\n",
       " 0,\n",
       " 0,\n",
       " 0,\n",
       " -1,\n",
       " 0,\n",
       " 0,\n",
       " 0,\n",
       " 1,\n",
       " 0,\n",
       " 0,\n",
       " 0,\n",
       " 0,\n",
       " 0,\n",
       " 0,\n",
       " 0,\n",
       " 0,\n",
       " 0,\n",
       " 0,\n",
       " 0,\n",
       " 0,\n",
       " 0,\n",
       " 0,\n",
       " 0,\n",
       " 0,\n",
       " 0,\n",
       " 0,\n",
       " 0,\n",
       " 0,\n",
       " 0,\n",
       " 0,\n",
       " 0,\n",
       " 0,\n",
       " 0,\n",
       " 0,\n",
       " 0,\n",
       " 0,\n",
       " 0,\n",
       " 0,\n",
       " 0,\n",
       " 0,\n",
       " 0,\n",
       " 0,\n",
       " 0,\n",
       " 0,\n",
       " 0,\n",
       " 0,\n",
       " 0,\n",
       " 0,\n",
       " 0,\n",
       " 0,\n",
       " 0,\n",
       " 0,\n",
       " 0,\n",
       " 0,\n",
       " 0,\n",
       " 0,\n",
       " 0]"
      ]
     },
     "execution_count": 28,
     "metadata": {},
     "output_type": "execute_result"
    }
   ],
   "source": [
    "input_values_save[-2]"
   ]
  },
  {
   "cell_type": "code",
   "execution_count": 38,
   "metadata": {},
   "outputs": [],
   "source": [
    "def prints2score(prints):\n",
    "    scores = []\n",
    "    for x, y, tile_id in zip(prints[::3], prints[1::3], prints[2::3]):\n",
    "        if x == -1:\n",
    "            print(f\"score: {tile_id}\")\n",
    "            scores.append(tile_id)\n",
    "    return scores"
   ]
  },
  {
   "cell_type": "code",
   "execution_count": 49,
   "metadata": {},
   "outputs": [
    {
     "name": "stdout",
     "output_type": "stream",
     "text": [
      "score: 0\n",
      "score: 34\n",
      "score: 50\n",
      "score: 96\n",
      "score: 106\n",
      "score: 125\n",
      "score: 164\n",
      "score: 262\n",
      "score: 329\n",
      "score: 334\n",
      "score: 410\n",
      "score: 490\n",
      "score: 578\n",
      "score: 653\n",
      "score: 700\n",
      "score: 729\n",
      "score: 815\n",
      "score: 909\n",
      "score: 961\n",
      "score: 1018\n",
      "score: 1103\n",
      "score: 1137\n",
      "score: 1194\n",
      "score: 1216\n",
      "score: 1311\n",
      "score: 1343\n",
      "score: 1423\n",
      "score: 1485\n",
      "score: 1489\n",
      "score: 1572\n",
      "score: 1640\n",
      "score: 1657\n",
      "score: 1727\n",
      "score: 1748\n",
      "score: 1783\n",
      "score: 1842\n",
      "score: 1860\n",
      "score: 1862\n",
      "score: 1959\n",
      "score: 2027\n"
     ]
    },
    {
     "data": {
      "text/plain": [
       "False"
      ]
     },
     "execution_count": 49,
     "metadata": {},
     "output_type": "execute_result"
    }
   ],
   "source": [
    "state, prints, is_finished = run(program, input_values=input_values_save[-1][:])\n",
    "scores = prints2score(prints)\n",
    "is_finished"
   ]
  },
  {
   "cell_type": "code",
   "execution_count": 50,
   "metadata": {},
   "outputs": [
    {
     "data": {
      "text/plain": [
       "5475"
      ]
     },
     "execution_count": 50,
     "metadata": {},
     "output_type": "execute_result"
    }
   ],
   "source": [
    "len(prints)"
   ]
  },
  {
   "cell_type": "code",
   "execution_count": 52,
   "metadata": {},
   "outputs": [
    {
     "data": {
      "application/vnd.jupyter.widget-view+json": {
       "model_id": "63d647181d544e3cb5bf679aaee323d5",
       "version_major": 2,
       "version_minor": 0
      },
      "text/plain": [
       "Canvas(toolbar=Toolbar(toolitems=[('Home', 'Reset original view', 'home', 'home'), ('Back', 'Back to previous …"
      ]
     },
     "metadata": {},
     "output_type": "display_data"
    },
    {
     "data": {
      "text/plain": [
       "[<matplotlib.lines.Line2D at 0x1199e9a90>]"
      ]
     },
     "execution_count": 52,
     "metadata": {},
     "output_type": "execute_result"
    }
   ],
   "source": [
    "fig2, ax2 = plt.subplots()\n",
    "ax2.plot(np.diff(scores))"
   ]
  },
  {
   "cell_type": "code",
   "execution_count": 56,
   "metadata": {},
   "outputs": [],
   "source": [
    "def get_player_and_ball(prints):\n",
    "    player, ball = None, None\n",
    "    for x, y, tile_id in zip(prints[::3], prints[1::3], prints[2::3]):\n",
    "        if tile_id == 3:\n",
    "            player = x, y\n",
    "        elif tile_id == 4:\n",
    "            ball = x, y\n",
    "    return player, ball"
   ]
  },
  {
   "cell_type": "code",
   "execution_count": 55,
   "metadata": {},
   "outputs": [
    {
     "data": {
      "text/plain": [
       "((19, 24), (1, 6))"
      ]
     },
     "execution_count": 55,
     "metadata": {},
     "output_type": "execute_result"
    }
   ],
   "source": [
    "get_player(prints)"
   ]
  },
  {
   "cell_type": "code",
   "execution_count": null,
   "metadata": {},
   "outputs": [],
   "source": []
  }
 ],
 "metadata": {
  "kernelspec": {
   "display_name": "Python 3",
   "language": "python",
   "name": "python3"
  },
  "language_info": {
   "codemirror_mode": {
    "name": "ipython",
    "version": 3
   },
   "file_extension": ".py",
   "mimetype": "text/x-python",
   "name": "python",
   "nbconvert_exporter": "python",
   "pygments_lexer": "ipython3",
   "version": "3.7.3"
  }
 },
 "nbformat": 4,
 "nbformat_minor": 2
}
