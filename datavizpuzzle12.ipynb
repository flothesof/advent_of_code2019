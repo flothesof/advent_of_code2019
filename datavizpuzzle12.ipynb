{
 "cells": [
  {
   "cell_type": "code",
   "execution_count": 16,
   "metadata": {},
   "outputs": [
    {
     "name": "stdout",
     "output_type": "stream",
     "text": [
      "after 0 steps\n",
      "pos=<x=-1, y=0, z=2>, vel=<x=0, y=0, z=0>\n",
      "pos=<x=2, y=-10, z=-7>, vel=<x=0, y=0, z=0>\n",
      "pos=<x=4, y=-8, z=8>, vel=<x=0, y=0, z=0>\n",
      "pos=<x=3, y=5, z=-1>, vel=<x=0, y=0, z=0>\n",
      "total energy: 0\n",
      "after 1 steps\n",
      "pos=<x=2, y=-1, z=1>, vel=<x=3, y=-1, z=-1>\n",
      "pos=<x=3, y=-7, z=-4>, vel=<x=1, y=3, z=3>\n",
      "pos=<x=1, y=-7, z=5>, vel=<x=-3, y=1, z=-3>\n",
      "pos=<x=2, y=2, z=0>, vel=<x=-1, y=-3, z=1>\n",
      "total energy: 229\n",
      "after 10 steps\n",
      "pos=<x=2, y=1, z=-3>, vel=<x=-3, y=-2, z=1>\n",
      "pos=<x=1, y=-8, z=0>, vel=<x=-1, y=1, z=3>\n",
      "pos=<x=3, y=-6, z=1>, vel=<x=3, y=2, z=-3>\n",
      "pos=<x=2, y=0, z=4>, vel=<x=1, y=-1, z=-1>\n",
      "total energy: 179\n",
      "solution for part1: 12053\n"
     ]
    }
   ],
   "source": [
    "import numpy as np\n",
    "\n",
    "inp1 = \"\"\"<x=-1, y=0, z=2>\n",
    "<x=2, y=-10, z=-7>\n",
    "<x=4, y=-8, z=8>\n",
    "<x=3, y=5, z=-1>\"\"\"\n",
    "\n",
    "\n",
    "def parse_input(inp1):\n",
    "    lines = inp1.split('\\n')\n",
    "    moons = []\n",
    "    for line in lines:\n",
    "        coords = line.split(',')\n",
    "        moon = []\n",
    "        for coord in coords:\n",
    "            coord = coord.replace(' ', '').replace('<', '').replace('>', '')\n",
    "            moon.append(int(coord.split('=')[1]))\n",
    "        moons.append(np.array(moon))\n",
    "    return dict(zip(['Io', 'Europa', 'Ganymede', 'Callisto'], moons))\n",
    "\n",
    "\n",
    "# moons 'Io', 'Europa', 'Ganymede', 'Callisto'\n",
    "def step(moons, velocities):\n",
    "    # update velocities\n",
    "    for moon in moons:\n",
    "        x1 = moons[moon]\n",
    "        v1 = velocities[moon]\n",
    "        for other_moon in moons:\n",
    "            if moon != other_moon:\n",
    "                x2 = moons[other_moon]\n",
    "                dx = x2 - x1\n",
    "                v1 += np.sign(dx)\n",
    "    # update positions\n",
    "    for moon in moons:\n",
    "        x1 = moons[moon]\n",
    "        v1 = velocities[moon]\n",
    "        x1 += v1\n",
    "    return moons, velocities\n",
    "\n",
    "\n",
    "def printout(step, moons, velocities):\n",
    "    print(f'after {step} steps')\n",
    "    for moon in moons:\n",
    "        pos = moons[moon]\n",
    "        vel = velocities[moon]\n",
    "        print(f'pos=<x={pos[0]}, y={pos[1]}, z={pos[2]}>, vel=<x={vel[0]}, y={vel[1]}, z={vel[2]}>')\n",
    "    print(f'total energy: {total_energy(moons, velocities)}')\n",
    "\n",
    "\n",
    "def total_energy(moons, velocities):\n",
    "    total = []\n",
    "    for moon in moons:\n",
    "        pot = np.sum(np.abs(moons[moon]))\n",
    "        kin = np.sum(np.abs(velocities[moon]))\n",
    "        total.append(pot * kin)\n",
    "    return sum(total)\n",
    "\n",
    "\n",
    "# unit test part1\n",
    "moons = parse_input(inp1)\n",
    "assert np.allclose(moons['Io'], np.array([-1, 0, 2]))\n",
    "velocities = {key: np.array([0, 0, 0]) for key in moons}\n",
    "printout(0, moons, velocities)\n",
    "moons, velocities = step(moons, velocities)\n",
    "printout(1, moons, velocities)\n",
    "for _ in range(9):\n",
    "    moons, velocities = step(moons, velocities)\n",
    "printout(10, moons, velocities)\n",
    "assert total_energy(moons, velocities) == 179\n",
    "\n",
    "# part1\n",
    "moons = parse_input(open('data/input12').read().strip())\n",
    "velocities = {key: np.array([0, 0, 0]) for key in moons}\n",
    "for _ in range(1000):\n",
    "    moons, velocities = step(moons, velocities)\n",
    "print(f'solution for part1: {total_energy(moons, velocities)}')\n",
    "\n",
    "moons = parse_input(open('data/input12').read().strip())\n",
    "velocities = {key: np.array([0, 0, 0]) for key in moons}\n",
    "energies = [total_energy(moons, velocities)]\n",
    "positions = [np.array(list(moons.values()))]\n",
    "velocities_history = [np.array(list(velocities.values()))]\n",
    "for _ in range(250):\n",
    "    moons, velocities = step(moons, velocities)\n",
    "    energies.append(total_energy(moons, velocities))\n",
    "    positions.append(np.array(list(moons.values())))\n",
    "    velocities_history.append(np.array(list(velocities.values())))"
   ]
  },
  {
   "cell_type": "code",
   "execution_count": 17,
   "metadata": {},
   "outputs": [
    {
     "data": {
      "text/plain": [
       "251"
      ]
     },
     "execution_count": 17,
     "metadata": {},
     "output_type": "execute_result"
    }
   ],
   "source": [
    "len(positions)"
   ]
  },
  {
   "cell_type": "code",
   "execution_count": 18,
   "metadata": {},
   "outputs": [
    {
     "data": {
      "text/plain": [
       "251"
      ]
     },
     "execution_count": 18,
     "metadata": {},
     "output_type": "execute_result"
    }
   ],
   "source": [
    "len(velocities_history)"
   ]
  },
  {
   "cell_type": "code",
   "execution_count": 19,
   "metadata": {},
   "outputs": [],
   "source": [
    "xyz = np.array([item[0] for item in positions]).astype(np.float)\n",
    "x, y, z = xyz[:, 0], xyz[:, 1], xyz[:, 2]"
   ]
  },
  {
   "cell_type": "code",
   "execution_count": 20,
   "metadata": {},
   "outputs": [],
   "source": [
    "import ipyvolume as ipv\n",
    "import numpy as np"
   ]
  },
  {
   "cell_type": "code",
   "execution_count": 22,
   "metadata": {},
   "outputs": [
    {
     "data": {
      "application/vnd.jupyter.widget-view+json": {
       "model_id": "9e9cf20a15874e9caa554faad3100994",
       "version_major": 2,
       "version_minor": 0
      },
      "text/plain": [
       "VBox(children=(Figure(camera=PerspectiveCamera(aspect=1.3333333333333333, fov=46.0, matrixWorldNeedsUpdate=Tru…"
      ]
     },
     "metadata": {},
     "output_type": "display_data"
    }
   ],
   "source": [
    "p = ipv.plot(x, y, z)\n",
    "p2 = ipv.scatter(x, y, z, size=3, marker='sphere')\n",
    "p.material.linewidth = 20\n",
    "ipv.show()"
   ]
  },
  {
   "cell_type": "markdown",
   "metadata": {},
   "source": [
    "Let's plot all four trajectories "
   ]
  },
  {
   "cell_type": "code",
   "execution_count": 7,
   "metadata": {},
   "outputs": [],
   "source": [
    "def get_traj(index, positions):\n",
    "    xyz = np.array([item[index] for item in positions]).astype(np.float)\n",
    "    x, y, z = xyz[:, 0], xyz[:, 1], xyz[:, 2]\n",
    "    return x, y, z"
   ]
  },
  {
   "cell_type": "code",
   "execution_count": 23,
   "metadata": {},
   "outputs": [
    {
     "data": {
      "application/vnd.jupyter.widget-view+json": {
       "model_id": "2c78f14b53a142c6a22cd8a03c406a29",
       "version_major": 2,
       "version_minor": 0
      },
      "text/plain": [
       "VBox(children=(Figure(camera=PerspectiveCamera(fov=46.0, position=(0.0, 0.0, 2.0), quaternion=(0.0, 0.0, 0.0, …"
      ]
     },
     "metadata": {},
     "output_type": "display_data"
    }
   ],
   "source": [
    "colors = ['red', 'green', 'blue', 'black']\n",
    "ipv.figure()\n",
    "for index in range(4):\n",
    "    x, y, z = get_traj(index, positions)\n",
    "    p = ipv.plot(x, y, z, color=colors[index])\n",
    "ipv.show()"
   ]
  },
  {
   "cell_type": "markdown",
   "metadata": {},
   "source": [
    "Avec le barycentre?"
   ]
  },
  {
   "cell_type": "code",
   "execution_count": 9,
   "metadata": {},
   "outputs": [],
   "source": [
    "xyz = np.array([item.mean(axis=0) for item in positions])\n",
    "x, y, z = xyz[:, 0], xyz[:, 1], xyz[:, 2]"
   ]
  },
  {
   "cell_type": "code",
   "execution_count": 10,
   "metadata": {},
   "outputs": [
    {
     "data": {
      "text/plain": [
       "array([[6.25, 7.75, 5.25],\n",
       "       [6.25, 7.75, 5.25],\n",
       "       [6.25, 7.75, 5.25],\n",
       "       [6.25, 7.75, 5.25],\n",
       "       [6.25, 7.75, 5.25],\n",
       "       [6.25, 7.75, 5.25],\n",
       "       [6.25, 7.75, 5.25],\n",
       "       [6.25, 7.75, 5.25],\n",
       "       [6.25, 7.75, 5.25],\n",
       "       [6.25, 7.75, 5.25],\n",
       "       [6.25, 7.75, 5.25],\n",
       "       [6.25, 7.75, 5.25],\n",
       "       [6.25, 7.75, 5.25],\n",
       "       [6.25, 7.75, 5.25],\n",
       "       [6.25, 7.75, 5.25],\n",
       "       [6.25, 7.75, 5.25],\n",
       "       [6.25, 7.75, 5.25],\n",
       "       [6.25, 7.75, 5.25],\n",
       "       [6.25, 7.75, 5.25],\n",
       "       [6.25, 7.75, 5.25],\n",
       "       [6.25, 7.75, 5.25],\n",
       "       [6.25, 7.75, 5.25],\n",
       "       [6.25, 7.75, 5.25],\n",
       "       [6.25, 7.75, 5.25],\n",
       "       [6.25, 7.75, 5.25],\n",
       "       [6.25, 7.75, 5.25],\n",
       "       [6.25, 7.75, 5.25],\n",
       "       [6.25, 7.75, 5.25],\n",
       "       [6.25, 7.75, 5.25],\n",
       "       [6.25, 7.75, 5.25],\n",
       "       [6.25, 7.75, 5.25],\n",
       "       [6.25, 7.75, 5.25],\n",
       "       [6.25, 7.75, 5.25],\n",
       "       [6.25, 7.75, 5.25],\n",
       "       [6.25, 7.75, 5.25],\n",
       "       [6.25, 7.75, 5.25],\n",
       "       [6.25, 7.75, 5.25],\n",
       "       [6.25, 7.75, 5.25],\n",
       "       [6.25, 7.75, 5.25],\n",
       "       [6.25, 7.75, 5.25],\n",
       "       [6.25, 7.75, 5.25],\n",
       "       [6.25, 7.75, 5.25],\n",
       "       [6.25, 7.75, 5.25],\n",
       "       [6.25, 7.75, 5.25],\n",
       "       [6.25, 7.75, 5.25],\n",
       "       [6.25, 7.75, 5.25],\n",
       "       [6.25, 7.75, 5.25],\n",
       "       [6.25, 7.75, 5.25],\n",
       "       [6.25, 7.75, 5.25],\n",
       "       [6.25, 7.75, 5.25],\n",
       "       [6.25, 7.75, 5.25]])"
      ]
     },
     "execution_count": 10,
     "metadata": {},
     "output_type": "execute_result"
    }
   ],
   "source": [
    "xyz"
   ]
  },
  {
   "cell_type": "code",
   "execution_count": 11,
   "metadata": {},
   "outputs": [
    {
     "data": {
      "text/plain": [
       "array([6.25, 7.75, 5.25])"
      ]
     },
     "execution_count": 11,
     "metadata": {},
     "output_type": "execute_result"
    }
   ],
   "source": [
    "positions[0].mean(axis=0)"
   ]
  },
  {
   "cell_type": "code",
   "execution_count": 12,
   "metadata": {},
   "outputs": [
    {
     "data": {
      "application/vnd.jupyter.widget-view+json": {
       "model_id": "1f19967626754541b3b1614d2e21f09a",
       "version_major": 2,
       "version_minor": 0
      },
      "text/plain": [
       "VBox(children=(Figure(camera=PerspectiveCamera(fov=46.0, position=(0.0, 0.0, 2.0), quaternion=(0.0, 0.0, 0.0, …"
      ]
     },
     "metadata": {},
     "output_type": "display_data"
    }
   ],
   "source": [
    "ipv.figure()\n",
    "p = ipv.plot(x, y, z, color='black')\n",
    "ipv.show()"
   ]
  },
  {
   "cell_type": "markdown",
   "metadata": {},
   "source": [
    "Qui des vitesses ?"
   ]
  },
  {
   "cell_type": "code",
   "execution_count": 13,
   "metadata": {},
   "outputs": [
    {
     "data": {
      "application/vnd.jupyter.widget-view+json": {
       "model_id": "9e9cf20a15874e9caa554faad3100994",
       "version_major": 2,
       "version_minor": 0
      },
      "text/plain": [
       "VBox(children=(Figure(camera=PerspectiveCamera(fov=46.0, position=(0.0, 0.0, 2.0), quaternion=(0.0, 0.0, 0.0, …"
      ]
     },
     "metadata": {},
     "output_type": "display_data"
    }
   ],
   "source": [
    "colors = ['red', 'green', 'blue', 'black']\n",
    "ipv.figure()\n",
    "for index in range(4):\n",
    "    x, y, z = get_traj(index, velocities_history)\n",
    "    p = ipv.plot(x, y, z, color=colors[index])\n",
    "ipv.show()"
   ]
  },
  {
   "cell_type": "code",
   "execution_count": 14,
   "metadata": {},
   "outputs": [],
   "source": [
    "xyz = np.array([item.mean(axis=0) for item in velocities_history])\n",
    "x, y, z = xyz[:, 0], xyz[:, 1], xyz[:, 2]"
   ]
  },
  {
   "cell_type": "code",
   "execution_count": 15,
   "metadata": {},
   "outputs": [
    {
     "data": {
      "text/plain": [
       "array([[0., 0., 0.],\n",
       "       [0., 0., 0.],\n",
       "       [0., 0., 0.],\n",
       "       [0., 0., 0.],\n",
       "       [0., 0., 0.],\n",
       "       [0., 0., 0.],\n",
       "       [0., 0., 0.],\n",
       "       [0., 0., 0.],\n",
       "       [0., 0., 0.],\n",
       "       [0., 0., 0.],\n",
       "       [0., 0., 0.],\n",
       "       [0., 0., 0.],\n",
       "       [0., 0., 0.],\n",
       "       [0., 0., 0.],\n",
       "       [0., 0., 0.],\n",
       "       [0., 0., 0.],\n",
       "       [0., 0., 0.],\n",
       "       [0., 0., 0.],\n",
       "       [0., 0., 0.],\n",
       "       [0., 0., 0.],\n",
       "       [0., 0., 0.],\n",
       "       [0., 0., 0.],\n",
       "       [0., 0., 0.],\n",
       "       [0., 0., 0.],\n",
       "       [0., 0., 0.],\n",
       "       [0., 0., 0.],\n",
       "       [0., 0., 0.],\n",
       "       [0., 0., 0.],\n",
       "       [0., 0., 0.],\n",
       "       [0., 0., 0.],\n",
       "       [0., 0., 0.],\n",
       "       [0., 0., 0.],\n",
       "       [0., 0., 0.],\n",
       "       [0., 0., 0.],\n",
       "       [0., 0., 0.],\n",
       "       [0., 0., 0.],\n",
       "       [0., 0., 0.],\n",
       "       [0., 0., 0.],\n",
       "       [0., 0., 0.],\n",
       "       [0., 0., 0.],\n",
       "       [0., 0., 0.],\n",
       "       [0., 0., 0.],\n",
       "       [0., 0., 0.],\n",
       "       [0., 0., 0.],\n",
       "       [0., 0., 0.],\n",
       "       [0., 0., 0.],\n",
       "       [0., 0., 0.],\n",
       "       [0., 0., 0.],\n",
       "       [0., 0., 0.],\n",
       "       [0., 0., 0.],\n",
       "       [0., 0., 0.]])"
      ]
     },
     "execution_count": 15,
     "metadata": {},
     "output_type": "execute_result"
    }
   ],
   "source": [
    "xyz"
   ]
  },
  {
   "cell_type": "code",
   "execution_count": null,
   "metadata": {},
   "outputs": [],
   "source": []
  },
  {
   "cell_type": "code",
   "execution_count": null,
   "metadata": {},
   "outputs": [],
   "source": []
  },
  {
   "cell_type": "code",
   "execution_count": null,
   "metadata": {},
   "outputs": [],
   "source": []
  }
 ],
 "metadata": {
  "kernelspec": {
   "display_name": "Python 3",
   "language": "python",
   "name": "python3"
  },
  "language_info": {
   "codemirror_mode": {
    "name": "ipython",
    "version": 3
   },
   "file_extension": ".py",
   "mimetype": "text/x-python",
   "name": "python",
   "nbconvert_exporter": "python",
   "pygments_lexer": "ipython3",
   "version": "3.7.3"
  }
 },
 "nbformat": 4,
 "nbformat_minor": 4
}
