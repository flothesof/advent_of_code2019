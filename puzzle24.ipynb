{
 "cells": [
  {
   "cell_type": "code",
   "execution_count": 1,
   "metadata": {},
   "outputs": [
    {
     "name": "stdout",
     "output_type": "stream",
     "text": [
      "....#\n",
      "#..#.\n",
      "#..##\n",
      "..#..\n",
      "#....\n"
     ]
    }
   ],
   "source": [
    "test_input1 = \"\"\"....#\n",
    "#..#.\n",
    "#..##\n",
    "..#..\n",
    "#....\"\"\"\n",
    "\n",
    "print(test_input1)"
   ]
  },
  {
   "cell_type": "code",
   "execution_count": 2,
   "metadata": {},
   "outputs": [
    {
     "data": {
      "text/plain": [
       "['....#', '#..#.', '#..##', '..#..', '#....']"
      ]
     },
     "execution_count": 2,
     "metadata": {},
     "output_type": "execute_result"
    }
   ],
   "source": [
    "rows = test_input1.split('\\n')\n",
    "\n",
    "rows"
   ]
  },
  {
   "cell_type": "code",
   "execution_count": 3,
   "metadata": {},
   "outputs": [],
   "source": [
    "def make_grid(rows):\n",
    "    grid = {}\n",
    "    for r, row in enumerate(rows):\n",
    "        for c, char in enumerate(row):\n",
    "            grid[(r, c)] = {'.': 0, '#': 1}[char]\n",
    "    return grid\n",
    "\n",
    "grid = make_grid(rows)"
   ]
  },
  {
   "cell_type": "code",
   "execution_count": 4,
   "metadata": {},
   "outputs": [],
   "source": [
    "from collections import defaultdict\n",
    "\n",
    "\n",
    "def make_neighbors(grid):\n",
    "    neighbors = defaultdict(list)\n",
    "\n",
    "    for (r, c) in grid:\n",
    "        for dr, dc in [(-1, 0), (1, 0), (0, 1), (0, -1)]:\n",
    "            if (r + dr, c + dc) in grid:\n",
    "                neighbors[(r, c)].append((r + dr, c + dc))\n",
    "                \n",
    "    return neighbors\n",
    "\n",
    "neighbors = make_neighbors(grid)"
   ]
  },
  {
   "cell_type": "code",
   "execution_count": 5,
   "metadata": {},
   "outputs": [
    {
     "data": {
      "text/plain": [
       "2"
      ]
     },
     "execution_count": 5,
     "metadata": {},
     "output_type": "execute_result"
    }
   ],
   "source": [
    "def get_neighbors(pos, neighbors, grid):\n",
    "    return sum(grid[n] for n in neighbors[pos])\n",
    "\n",
    "get_neighbors((0, 3), neighbors, grid)"
   ]
  },
  {
   "cell_type": "code",
   "execution_count": 6,
   "metadata": {},
   "outputs": [],
   "source": [
    "def step(grid, neighbors):\n",
    "    new_grid = {}\n",
    "    for pos, bugs in grid.items():\n",
    "        s = get_neighbors(pos, neighbors, grid)\n",
    "        if bugs == 1:\n",
    "            if s != 1:\n",
    "                new_grid[pos] = 0\n",
    "            else:\n",
    "                new_grid[pos] = 1\n",
    "        else:\n",
    "            if s >= 1 and s <= 2:\n",
    "                new_grid[pos] = 1\n",
    "            else:\n",
    "                new_grid[pos] = 0\n",
    "    return new_grid"
   ]
  },
  {
   "cell_type": "code",
   "execution_count": 7,
   "metadata": {},
   "outputs": [],
   "source": [
    "def print_grid(grid):\n",
    "    for r in range(5):\n",
    "        for c in range(5):\n",
    "            print({0: '.', 1: '#'}[grid[(r, c)]], sep='', end='')\n",
    "        print()"
   ]
  },
  {
   "cell_type": "code",
   "execution_count": 8,
   "metadata": {},
   "outputs": [
    {
     "name": "stdout",
     "output_type": "stream",
     "text": [
      "....#\n",
      "#..#.\n",
      "#..##\n",
      "..#..\n",
      "#....\n",
      "\n",
      "#..#.\n",
      "####.\n",
      "###.#\n",
      "##.##\n",
      ".##..\n"
     ]
    }
   ],
   "source": [
    "test_input2 = \"\"\"#..#.\n",
    "####.\n",
    "###.#\n",
    "##.##\n",
    ".##..\"\"\"\n",
    "\n",
    "print(test_input1)\n",
    "print()\n",
    "print(test_input2)"
   ]
  },
  {
   "cell_type": "code",
   "execution_count": 9,
   "metadata": {},
   "outputs": [
    {
     "name": "stdout",
     "output_type": "stream",
     "text": [
      "#..#.\n",
      "####.\n",
      "###.#\n",
      "##.##\n",
      ".##..\n"
     ]
    }
   ],
   "source": [
    "print_grid(step(grid, neighbors))"
   ]
  },
  {
   "cell_type": "markdown",
   "metadata": {},
   "source": [
    "Let's define a hash function."
   ]
  },
  {
   "cell_type": "code",
   "execution_count": 10,
   "metadata": {},
   "outputs": [
    {
     "data": {
      "text/plain": [
       "-7440750469560754571"
      ]
     },
     "execution_count": 10,
     "metadata": {},
     "output_type": "execute_result"
    }
   ],
   "source": [
    "def hash_grid(grid):\n",
    "    return hash(tuple(grid.values()))\n",
    "\n",
    "hash_grid(grid)"
   ]
  },
  {
   "cell_type": "code",
   "execution_count": 11,
   "metadata": {},
   "outputs": [],
   "source": [
    "hashes = set()\n",
    "new_grid = grid.copy()\n",
    "while True:\n",
    "    h = hash_grid(new_grid)\n",
    "    if h in hashes:\n",
    "        break\n",
    "    else:\n",
    "        hashes.add(h)\n",
    "    new_grid = step(new_grid, neighbors)"
   ]
  },
  {
   "cell_type": "code",
   "execution_count": 12,
   "metadata": {},
   "outputs": [
    {
     "data": {
      "text/plain": [
       "-3065632452959700355"
      ]
     },
     "execution_count": 12,
     "metadata": {},
     "output_type": "execute_result"
    }
   ],
   "source": [
    "h"
   ]
  },
  {
   "cell_type": "code",
   "execution_count": 13,
   "metadata": {},
   "outputs": [
    {
     "name": "stdout",
     "output_type": "stream",
     "text": [
      ".....\n",
      ".....\n",
      ".....\n",
      "#....\n",
      ".#...\n"
     ]
    }
   ],
   "source": [
    "print_grid(new_grid)"
   ]
  },
  {
   "cell_type": "code",
   "execution_count": 14,
   "metadata": {},
   "outputs": [
    {
     "data": {
      "text/plain": [
       "2129920"
      ]
     },
     "execution_count": 14,
     "metadata": {},
     "output_type": "execute_result"
    }
   ],
   "source": [
    "def biodiversity(grid):\n",
    "    b = 0\n",
    "    for (r, c), val in grid.items():\n",
    "        if val == 1:\n",
    "            b += 2**(5*r + c)\n",
    "    return b\n",
    "\n",
    "biodiversity(new_grid)"
   ]
  },
  {
   "cell_type": "markdown",
   "metadata": {},
   "source": [
    "# Let's solve part1 "
   ]
  },
  {
   "cell_type": "code",
   "execution_count": 15,
   "metadata": {},
   "outputs": [
    {
     "name": "stdout",
     "output_type": "stream",
     "text": [
      "solution for part1: 30442557\n"
     ]
    }
   ],
   "source": [
    "inp = \"\"\"#####\n",
    ".#.#.\n",
    ".#..#\n",
    "....#\n",
    "..###\"\"\"\n",
    "\n",
    "grid = make_grid(inp.split('\\n'))\n",
    "neighbors = make_neighbors(grid)\n",
    "hashes = set()\n",
    "new_grid = grid.copy()\n",
    "while True:\n",
    "    h = hash_grid(new_grid)\n",
    "    if h in hashes:\n",
    "        break\n",
    "    else:\n",
    "        hashes.add(h)\n",
    "    new_grid = step(new_grid, neighbors)\n",
    "\n",
    "print(f\"solution for part1: {biodiversity(new_grid)}\")"
   ]
  },
  {
   "cell_type": "markdown",
   "metadata": {},
   "source": [
    "# Part 2 "
   ]
  },
  {
   "cell_type": "markdown",
   "metadata": {},
   "source": [
    "Let's build recursive grids of a fixed size and then let's propagate all these bugs."
   ]
  },
  {
   "cell_type": "code",
   "execution_count": 16,
   "metadata": {},
   "outputs": [
    {
     "data": {
      "text/plain": [
       "99"
      ]
     },
     "execution_count": 16,
     "metadata": {},
     "output_type": "execute_result"
    }
   ],
   "source": [
    "def make_recursive_neighbors(recursion_levels):\n",
    "    # init existing recursive_grid\n",
    "    recursive_grid = dict()\n",
    "    for recursion_level in recursion_levels:\n",
    "        for r in range(5):\n",
    "            for c in range(5):\n",
    "                if (r, c) != (2, 2):\n",
    "                    recursive_grid[(r, c, recursion_level)] = 0\n",
    "\n",
    "\n",
    "\n",
    "    recursive_neighbors = defaultdict(set)\n",
    "\n",
    "    # build \"normal\" neighbors\n",
    "    for (r, c, recursion_level) in recursive_grid:\n",
    "        if (r, c) != (2, 2):\n",
    "            for dr, dc in [(-1, 0), (1, 0), (0, 1), (0, -1)]:\n",
    "                if (r + dr, c + dc, recursion_level) in recursive_grid: \n",
    "                    recursive_neighbors[(r, c, recursion_level)].add((r + dr, c + dc, recursion_level))\n",
    "\n",
    "    # build \"recursed\" neighbors\n",
    "    for recursion_level in recursion_levels:\n",
    "        # example case 8\n",
    "        (r, c) = (1, 2)\n",
    "        if (0, 0, recursion_level - 1) in recursive_grid:\n",
    "            for cc in range(5):\n",
    "                recursive_neighbors[(r, c, recursion_level)].add((0, cc, recursion_level - 1))\n",
    "                recursive_neighbors[(0, cc, recursion_level - 1)].add((r, c, recursion_level))\n",
    "        # example case 12\n",
    "        (r, c) = (2, 1)\n",
    "        if (0, 0, recursion_level - 1) in recursive_grid:\n",
    "            for rr in range(5):\n",
    "                recursive_neighbors[(r, c, recursion_level)].add((rr, 0, recursion_level - 1))\n",
    "                recursive_neighbors[(rr, 0, recursion_level - 1)].add((r, c, recursion_level))\n",
    "        # example case 14\n",
    "        (r, c) = (2, 3)\n",
    "        if (0, 4, recursion_level - 1) in recursive_grid:\n",
    "              for rr in range(5):\n",
    "                recursive_neighbors[(r, c, recursion_level)].add((rr, 4, recursion_level - 1))  \n",
    "                recursive_neighbors[(rr, 4, recursion_level - 1)].add((r, c, recursion_level))  \n",
    "        # example case 18\n",
    "        (r, c) = (3, 2)\n",
    "        if (4, 0, recursion_level - 1) in recursive_grid:\n",
    "            for cc in range(5):\n",
    "                recursive_neighbors[(r, c, recursion_level)].add((4, cc, recursion_level - 1))\n",
    "                recursive_neighbors[(4, cc, recursion_level - 1)].add((r, c, recursion_level))\n",
    "\n",
    "    return recursive_grid, recursive_neighbors\n",
    "        \n",
    "# let's run the unit test\n",
    "recursion_levels = list(range(-5, 6)) \n",
    "recursive_grid, recursive_neighbors = make_recursive_neighbors(recursion_levels)\n",
    "grid = make_grid(test_input1.split('\\n'))\n",
    "for (r, c), val in grid.items():\n",
    "    if (r, c) != (2, 2):\n",
    "        recursive_grid[(r, c, 0)] = val\n",
    "\n",
    "new_grid = recursive_grid.copy()\n",
    "for _ in range(10):\n",
    "    new_grid = step(new_grid, recursive_neighbors)\n",
    "\n",
    "sum(items for items in new_grid.values())"
   ]
  },
  {
   "cell_type": "markdown",
   "metadata": {},
   "source": [
    "# Solving for part 2 "
   ]
  },
  {
   "cell_type": "code",
   "execution_count": 17,
   "metadata": {},
   "outputs": [
    {
     "data": {
      "text/plain": [
       "1987"
      ]
     },
     "execution_count": 17,
     "metadata": {},
     "output_type": "execute_result"
    }
   ],
   "source": [
    "recursion_levels = list(range(-200, 200)) \n",
    "recursive_grid, recursive_neighbors = make_recursive_neighbors(recursion_levels)\n",
    "grid = make_grid(inp.split('\\n'))\n",
    "for (r, c), val in grid.items():\n",
    "    if (r, c) != (2, 2):\n",
    "        recursive_grid[(r, c, 0)] = val\n",
    "\n",
    "new_grid = recursive_grid.copy()\n",
    "for _ in range(200):\n",
    "    new_grid = step(new_grid, recursive_neighbors)\n",
    "\n",
    "sum(items for items in new_grid.values())"
   ]
  }
 ],
 "metadata": {
  "kernelspec": {
   "display_name": "Python 3",
   "language": "python",
   "name": "python3"
  },
  "language_info": {
   "codemirror_mode": {
    "name": "ipython",
    "version": 3
   },
   "file_extension": ".py",
   "mimetype": "text/x-python",
   "name": "python",
   "nbconvert_exporter": "python",
   "pygments_lexer": "ipython3",
   "version": "3.7.3"
  }
 },
 "nbformat": 4,
 "nbformat_minor": 2
}
