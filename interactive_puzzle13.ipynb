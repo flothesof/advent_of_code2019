{
 "cells": [
  {
   "cell_type": "code",
   "execution_count": 1,
   "metadata": {},
   "outputs": [],
   "source": [
    "%matplotlib widget"
   ]
  },
  {
   "cell_type": "code",
   "execution_count": 2,
   "metadata": {},
   "outputs": [
    {
     "name": "stdout",
     "output_type": "stream",
     "text": [
      "solution for part1: 306\n"
     ]
    }
   ],
   "source": [
    "import numpy as np\n",
    "import matplotlib.pyplot as plt\n",
    "import ipywidgets as widgets\n",
    "from IPython import display\n",
    "from puzzle13 import *"
   ]
  },
  {
   "cell_type": "code",
   "execution_count": 3,
   "metadata": {},
   "outputs": [],
   "source": [
    "input_values_save = [[0,\n",
    " 0,\n",
    " 0,\n",
    " 0,\n",
    " 0,\n",
    " 0,\n",
    " 0,\n",
    " 0,\n",
    " 0,\n",
    " 0,\n",
    " 0,\n",
    " -1,\n",
    " -1,\n",
    " -1,\n",
    " -1,\n",
    " -1,\n",
    " -1,\n",
    " -1,\n",
    " -1,\n",
    " -1,\n",
    " -1,\n",
    " -1,\n",
    " -1,\n",
    " -1,\n",
    " -1,\n",
    " 0,\n",
    " 1,\n",
    " 1,\n",
    " 1,\n",
    " -1,\n",
    " 0,\n",
    " 0,\n",
    " 0,\n",
    " 0,\n",
    " -1,\n",
    " 0,\n",
    " 0,\n",
    " -1,\n",
    " 0]]"
   ]
  },
  {
   "cell_type": "code",
   "execution_count": 29,
   "metadata": {},
   "outputs": [],
   "source": [
    "def render(screen, screen_size=(26, 45)):\n",
    "    rendered = np.empty(screen_size, dtype=int)\n",
    "    for pixel, val in screen.items():\n",
    "        if pixel.imag != 1.:\n",
    "            r, c = -int(pixel.imag), int(pixel.real)\n",
    "            rendered[r, c] = val\n",
    "    return rendered\n",
    "\n",
    "def reset_game():\n",
    "    global input_values, program\n",
    "    input_values = list()\n",
    "    program = list(map(int, open('data/input13').read().split(',')))\n",
    "    program[0] = 2 # to play\n",
    "    state, prints, is_finished = run(program, input_values=input_values[:])\n",
    "    if not is_finished:\n",
    "        screen = prints2screen(prints)\n",
    "        arr = render(screen)\n",
    "        with output:\n",
    "            ax.imshow(arr)\n",
    "            display.clear_output(wait=True)\n",
    "            display.display(fig)\n",
    "    else:\n",
    "        print('finished')\n",
    "\n",
    "\n",
    "def on_left():\n",
    "    global input_values, screen, program\n",
    "    input_values.append(-1)\n",
    "    state, prints, is_finished = run(program, input_values=input_values[:])\n",
    "    if not is_finished:\n",
    "        screen = prints2screen(prints)\n",
    "        arr = render(screen)\n",
    "        with output:\n",
    "            ax.imshow(arr)\n",
    "            display.clear_output(wait=True)\n",
    "            display.display(fig)\n",
    "    else:\n",
    "        with output:\n",
    "            print('game seemed finished')\n",
    "        \n",
    "def on_right():\n",
    "    global input_values, screen, program\n",
    "    input_values.append(1)\n",
    "    state, prints, is_finished = run(program, input_values=input_values[:])\n",
    "    if not is_finished:\n",
    "        screen = prints2screen(prints)\n",
    "        arr = render(screen)\n",
    "        with output:\n",
    "            ax.imshow(arr)\n",
    "            display.clear_output(wait=True)\n",
    "            display.display(fig)\n",
    "    else:\n",
    "        with output:\n",
    "            print('game seemed finished')\n",
    "\n",
    "def on_neutral():\n",
    "    global input_values, screen, program\n",
    "    input_values.append(0)\n",
    "    state, prints, is_finished = run(program, input_values=input_values[:])\n",
    "    if not is_finished:\n",
    "        screen = prints2screen(prints)\n",
    "        arr = render(screen)\n",
    "        with output:\n",
    "            ax.imshow(arr)\n",
    "            display.clear_output(wait=True)\n",
    "            display.display(fig)\n",
    "    else:\n",
    "        with output:\n",
    "            print('game seemed finished')\n",
    "        \n",
    "def on_save():\n",
    "    global input_values, input_values_save\n",
    "    input_values_save.append(input_values[:])\n",
    "    \n",
    "def on_restore():\n",
    "    global input_values, input_values_save\n",
    "    input_values = input_values_save[-1][:]\n",
    "    state, prints, is_finished = run(program, input_values=input_values[:])\n",
    "    if not is_finished:\n",
    "        screen = prints2screen(prints)\n",
    "        arr = render(screen)\n",
    "        with output:\n",
    "            ax.imshow(arr)\n",
    "            display.clear_output(wait=True)\n",
    "            display.display(fig)\n",
    "    else:\n",
    "        with output:\n",
    "            print('game seemed finished')\n",
    "        \n",
    "left = widgets.Button(description='left')\n",
    "neutral = widgets.Button(description='neutral')\n",
    "right = widgets.Button(description='right')\n",
    "reset = widgets.Button(description='reset')\n",
    "save = widgets.Button(description='save')\n",
    "restore = widgets.Button(description='restore state')\n",
    "output = widgets.Output()\n",
    "plt.ioff()\n",
    "figsize = (5, 5)\n",
    "fig, ax = plt.subplots(1, 1, figsize=figsize)\n",
    "plt.ion()\n",
    "controls = widgets.HBox([left, neutral, right, reset, restore, save])\n",
    "\n",
    "left.on_click(lambda ev: on_left())\n",
    "neutral.on_click(lambda ev: on_neutral())\n",
    "right.on_click(lambda ev: on_right())\n",
    "reset.on_click(lambda ev: reset_game())\n",
    "restore.on_click(lambda ev: on_restore())\n",
    "save.on_click(lambda ev: on_save())"
   ]
  },
  {
   "cell_type": "code",
   "execution_count": 30,
   "metadata": {},
   "outputs": [
    {
     "data": {
      "application/vnd.jupyter.widget-view+json": {
       "model_id": "400d721e722c4b5ba07e15cbaa726db7",
       "version_major": 2,
       "version_minor": 0
      },
      "text/plain": [
       "HBox(children=(Button(description='left', style=ButtonStyle()), Button(description='neutral', style=ButtonStyl…"
      ]
     },
     "metadata": {},
     "output_type": "display_data"
    },
    {
     "data": {
      "application/vnd.jupyter.widget-view+json": {
       "model_id": "f20c2010532f42e186caccf080a05056",
       "version_major": 2,
       "version_minor": 0
      },
      "text/plain": [
       "Output(outputs=({'output_type': 'display_data', 'data': {'text/plain': '<Figure size 500x500 with 1 Axes>', 'i…"
      ]
     },
     "metadata": {},
     "output_type": "display_data"
    }
   ],
   "source": [
    "display.display(controls, output)"
   ]
  },
  {
   "cell_type": "code",
   "execution_count": 31,
   "metadata": {},
   "outputs": [
    {
     "data": {
      "text/plain": [
       "1"
      ]
     },
     "execution_count": 31,
     "metadata": {},
     "output_type": "execute_result"
    }
   ],
   "source": [
    "len(input_values_save)"
   ]
  },
  {
   "cell_type": "code",
   "execution_count": 32,
   "metadata": {},
   "outputs": [],
   "source": [
    "def prints2score(prints):\n",
    "    scores = []\n",
    "    for x, y, tile_id in zip(prints[::3], prints[1::3], prints[2::3]):\n",
    "        if x == -1:\n",
    "            print(f\"score: {tile_id}\")\n",
    "            scores.append(tile_id)\n",
    "    return scores"
   ]
  },
  {
   "cell_type": "code",
   "execution_count": 33,
   "metadata": {},
   "outputs": [
    {
     "name": "stdout",
     "output_type": "stream",
     "text": [
      "score: 0\n",
      "score: 34\n",
      "score: 50\n",
      "score: 96\n",
      "score: 106\n",
      "score: 125\n",
      "score: 164\n"
     ]
    },
    {
     "data": {
      "text/plain": [
       "False"
      ]
     },
     "execution_count": 33,
     "metadata": {},
     "output_type": "execute_result"
    }
   ],
   "source": [
    "state, prints, is_finished = run(program, input_values=input_values_save[-1][:])\n",
    "scores = prints2score(prints)\n",
    "is_finished"
   ]
  },
  {
   "cell_type": "code",
   "execution_count": 34,
   "metadata": {},
   "outputs": [
    {
     "data": {
      "text/plain": [
       "3903"
      ]
     },
     "execution_count": 34,
     "metadata": {},
     "output_type": "execute_result"
    }
   ],
   "source": [
    "len(prints)"
   ]
  },
  {
   "cell_type": "code",
   "execution_count": 35,
   "metadata": {},
   "outputs": [
    {
     "data": {
      "application/vnd.jupyter.widget-view+json": {
       "model_id": "ad945fb21e824d929e2d9220c75c419f",
       "version_major": 2,
       "version_minor": 0
      },
      "text/plain": [
       "Canvas(toolbar=Toolbar(toolitems=[('Home', 'Reset original view', 'home', 'home'), ('Back', 'Back to previous …"
      ]
     },
     "metadata": {},
     "output_type": "display_data"
    },
    {
     "data": {
      "text/plain": [
       "[<matplotlib.lines.Line2D at 0x19ce6f9ecf8>]"
      ]
     },
     "execution_count": 35,
     "metadata": {},
     "output_type": "execute_result"
    }
   ],
   "source": [
    "fig2, ax2 = plt.subplots()\n",
    "ax2.plot(np.diff(scores))"
   ]
  },
  {
   "cell_type": "code",
   "execution_count": 36,
   "metadata": {},
   "outputs": [],
   "source": [
    "def get_player_and_ball(prints):\n",
    "    player, ball = None, None\n",
    "    for x, y, tile_id in zip(prints[::3], prints[1::3], prints[2::3]):\n",
    "        if tile_id == 3:\n",
    "            player = x, y\n",
    "        elif tile_id == 4:\n",
    "            ball = x, y\n",
    "    return player, ball"
   ]
  },
  {
   "cell_type": "code",
   "execution_count": 37,
   "metadata": {},
   "outputs": [
    {
     "data": {
      "text/plain": [
       "((8, 24), (9, 22))"
      ]
     },
     "execution_count": 37,
     "metadata": {},
     "output_type": "execute_result"
    }
   ],
   "source": [
    "get_player_and_ball(prints)"
   ]
  }
 ],
 "metadata": {
  "kernelspec": {
   "display_name": "Python 3",
   "language": "python",
   "name": "python3"
  },
  "language_info": {
   "codemirror_mode": {
    "name": "ipython",
    "version": 3
   },
   "file_extension": ".py",
   "mimetype": "text/x-python",
   "name": "python",
   "nbconvert_exporter": "python",
   "pygments_lexer": "ipython3",
   "version": "3.7.3"
  }
 },
 "nbformat": 4,
 "nbformat_minor": 2
}
