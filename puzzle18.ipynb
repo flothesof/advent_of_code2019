{
 "cells": [
  {
   "cell_type": "code",
   "execution_count": null,
   "metadata": {},
   "outputs": [],
   "source": [
    "from puzzle18 import *"
   ]
  },
  {
   "cell_type": "markdown",
   "metadata": {},
   "source": [
    "Let's draw a graph that shows the connections."
   ]
  },
  {
   "cell_type": "code",
   "execution_count": null,
   "metadata": {},
   "outputs": [],
   "source": [
    "G = nx.Graph()\n",
    "for coord, val in vault.items():\n",
    "    if val not in '#':\n",
    "        G.add_node(coord, label=val)\n",
    "\n",
    "for node in G:\n",
    "    for direction in [1j, -1j, 1, -1]:\n",
    "        other = node + direction\n",
    "        if other in G:\n",
    "            G.add_edge(node, other)"
   ]
  },
  {
   "cell_type": "code",
   "execution_count": null,
   "metadata": {},
   "outputs": [],
   "source": [
    "def find_items_on_way(source, target, G, vault):\n",
    "    s = list({k:v for k, v in vault.items() if v == source}.keys())[0]\n",
    "    t = list({k:v for k, v in vault.items() if v == target}.keys())[0]\n",
    "    items = []\n",
    "    for coord in nx.shortest_path(G, source=s, target=t)[1:-1]:\n",
    "        if vault[coord] not in '.':\n",
    "            items.append(vault[coord])\n",
    "    return items"
   ]
  },
  {
   "cell_type": "code",
   "execution_count": null,
   "metadata": {},
   "outputs": [],
   "source": [
    "find_items_on_way('f', '@', G, vault)"
   ]
  },
  {
   "cell_type": "code",
   "execution_count": null,
   "metadata": {},
   "outputs": [],
   "source": [
    "set(item for item in vault.values() if item not in '.#@')"
   ]
  },
  {
   "cell_type": "code",
   "execution_count": null,
   "metadata": {},
   "outputs": [],
   "source": [
    "for item in set(item for item in vault.values() if item not in '.#@'):\n",
    "    items_on_way = find_items_on_way('@',item, G, vault)\n",
    "    print(f\"{item} needs {items_on_way}\")"
   ]
  },
  {
   "cell_type": "code",
   "execution_count": null,
   "metadata": {},
   "outputs": [],
   "source": [
    "def recursive_solve(steps_taken, collected_keys, G, vault):\n",
    "    needs = {}\n",
    "    for item in set(item for item in vault.values() if item not in '.#@'):\n",
    "        needs[item] = find_items_on_way('@', item, G, vault)\n",
    "    for item in needs:\n",
    "        if item in 'ABCDEFGHIJKLMNOPQRSTUVXYZ':\n",
    "            if item.lower() not in collected_keys:\n",
    "                needs[item].append(item.lower())\n",
    "    accessible = [item for item in needs if len(needs[item]) == 0]\n",
    "    print(f\"items I can get directly: {accessible}\")\n",
    "    # we modify stuff now\n",
    "    Gcopy = G.copy()\n",
    "    item = accessible[0]\n",
    "    print(f\"I will fetch '{item}'\")\n"
   ]
  },
  {
   "cell_type": "code",
   "execution_count": null,
   "metadata": {},
   "outputs": [],
   "source": [
    "recursive_solve(0, [], G, vault)"
   ]
  },
  {
   "cell_type": "code",
   "execution_count": null,
   "metadata": {},
   "outputs": [],
   "source": []
  },
  {
   "cell_type": "code",
   "execution_count": null,
   "metadata": {},
   "outputs": [],
   "source": []
  }
 ],
 "metadata": {
  "kernelspec": {
   "display_name": "Python 3",
   "language": "python",
   "name": "python3"
  },
  "language_info": {
   "codemirror_mode": {
    "name": "ipython",
    "version": 3
   },
   "file_extension": ".py",
   "mimetype": "text/x-python",
   "name": "python",
   "nbconvert_exporter": "python",
   "pygments_lexer": "ipython3",
   "version": "3.7.3"
  }
 },
 "nbformat": 4,
 "nbformat_minor": 2
}
