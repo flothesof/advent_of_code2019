{
 "cells": [
  {
   "cell_type": "markdown",
   "metadata": {},
   "source": [
    "# Part 1 "
   ]
  },
  {
   "cell_type": "code",
   "execution_count": 1,
   "metadata": {},
   "outputs": [
    {
     "name": "stdout",
     "output_type": "stream",
     "text": [
      "all tests passed\n"
     ]
    }
   ],
   "source": [
    "from intcode import IntCodeComputer"
   ]
  },
  {
   "cell_type": "code",
   "execution_count": 2,
   "metadata": {},
   "outputs": [],
   "source": [
    "program = list(map(int, open('data/input23').read().strip().split(',')))"
   ]
  },
  {
   "cell_type": "markdown",
   "metadata": {},
   "source": [
    "We need to parse messages. Let's just go through the list and get a dictionary of messages that we then can dispatch."
   ]
  },
  {
   "cell_type": "code",
   "execution_count": 3,
   "metadata": {},
   "outputs": [],
   "source": [
    "from collections import defaultdict\n",
    "\n",
    "def parse_messages(clear=True):\n",
    "\n",
    "    messages = defaultdict(list)\n",
    "\n",
    "    for c in range(50):\n",
    "        prints = computers[c].state[-1]\n",
    "        if len(prints) > 0:\n",
    "            assert len(prints) % 3 == 0 \n",
    "            for destination, x, y in zip(prints[::3], prints[1::3], prints[2::3]):\n",
    "                messages[destination].append((x, y))\n",
    "        \n",
    "        if clear: \n",
    "            computers[c].state = computers[c].state[:-1] + ([],)\n",
    "            \n",
    "    return messages"
   ]
  },
  {
   "cell_type": "markdown",
   "metadata": {},
   "source": [
    "Now let's try and put it together, removing messages once they're parsed and implementing a check for address 255."
   ]
  },
  {
   "cell_type": "code",
   "execution_count": 4,
   "metadata": {},
   "outputs": [
    {
     "name": "stdout",
     "output_type": "stream",
     "text": [
      "solution for part1: 24922\n"
     ]
    }
   ],
   "source": [
    "# create computers\n",
    "computers = {c: IntCodeComputer(program, resume=True) for c in range(50)}\n",
    "\n",
    "# assign network address and run\n",
    "for c in range(50):\n",
    "    computers[c].run(input_values=[c])\n",
    "    \n",
    "while True:\n",
    "    messages = parse_messages(clear=True)\n",
    "    if 255 in messages:\n",
    "        print(f\"solution for part1: {messages[255][0][1]}\")\n",
    "        break\n",
    "    for destination in range(50):\n",
    "        if destination in messages:\n",
    "            for message in messages[destination]:\n",
    "                computers[destination].run(input_values=list(message))\n",
    "        else:\n",
    "            computers[destination].run(input_values=[-1])"
   ]
  },
  {
   "cell_type": "markdown",
   "metadata": {},
   "source": [
    "# Part 2 "
   ]
  },
  {
   "cell_type": "markdown",
   "metadata": {},
   "source": [
    "Let's create a NAT class and insert it at address 255 in the list of computers."
   ]
  },
  {
   "cell_type": "code",
   "execution_count": 5,
   "metadata": {},
   "outputs": [],
   "source": [
    "class NAT:\n",
    "    def __init__(self):\n",
    "        self.packet = [None, None]\n",
    "        self.has_received = False\n",
    "        \n",
    "    def run(self, input_values):\n",
    "        if len(input_values) > 0:\n",
    "            assert len(input_values) % 2 == 0\n",
    "            for x, y in zip(input_values[::2], input_values[1::2]):\n",
    "                self.packet = [x, y]\n",
    "                self.has_received = True"
   ]
  },
  {
   "cell_type": "code",
   "execution_count": 6,
   "metadata": {},
   "outputs": [
    {
     "name": "stdout",
     "output_type": "stream",
     "text": [
      "solution for part2: 19478\n"
     ]
    }
   ],
   "source": [
    "# create computers\n",
    "computers = {c: IntCodeComputer(program, resume=True) for c in range(50)}\n",
    "computers[255] = NAT()\n",
    "nat_packets = []\n",
    "\n",
    "# assign network address and run\n",
    "for c in range(50):\n",
    "    computers[c].run(input_values=[c])\n",
    "\n",
    "\n",
    "while True:\n",
    "    messages = parse_messages(clear=True)\n",
    "    for destination in list(range(50)) + [255]:\n",
    "        if destination in messages:\n",
    "            for message in messages[destination]:\n",
    "                computers[destination].run(input_values=list(message))\n",
    "        else:\n",
    "            if destination != 255:\n",
    "                computers[destination].run(input_values=[-1])\n",
    "    \n",
    "    if len(messages) == 0:\n",
    "        if computers[255].has_received:\n",
    "            nat_packet = computers[255].packet\n",
    "            nat_packets.append(nat_packet[1])\n",
    "            if len(nat_packets) > 1:\n",
    "                if nat_packets[-2:] == nat_packets[-1:] * 2:\n",
    "                    print(f'solution for part2: {nat_packets[-1]}')\n",
    "                    break\n",
    "            computers[0].run(input_values=nat_packet)"
   ]
  }
 ],
 "metadata": {
  "kernelspec": {
   "display_name": "Python 3",
   "language": "python",
   "name": "python3"
  },
  "language_info": {
   "codemirror_mode": {
    "name": "ipython",
    "version": 3
   },
   "file_extension": ".py",
   "mimetype": "text/x-python",
   "name": "python",
   "nbconvert_exporter": "python",
   "pygments_lexer": "ipython3",
   "version": "3.7.3"
  }
 },
 "nbformat": 4,
 "nbformat_minor": 2
}
