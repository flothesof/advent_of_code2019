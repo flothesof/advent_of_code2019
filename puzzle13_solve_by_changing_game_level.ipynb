{
 "cells": [
  {
   "cell_type": "markdown",
   "metadata": {},
   "source": [
    "Let's try a different version. We simply modify the game in place to leave a single block to be destroyed by the ball and give it a couple of inputs."
   ]
  },
  {
   "cell_type": "code",
   "execution_count": 1,
   "metadata": {},
   "outputs": [
    {
     "data": {
      "text/plain": [
       "837"
      ]
     },
     "execution_count": 1,
     "metadata": {},
     "output_type": "execute_result"
    }
   ],
   "source": [
    "x, y = 27, 18\n",
    "\n",
    "x + 45 * y"
   ]
  },
  {
   "cell_type": "code",
   "execution_count": 2,
   "metadata": {},
   "outputs": [
    {
     "data": {
      "text/plain": [
       "'1,1,1,1,1,1,1,1,1,1,1,1,1,1,1,1,1,1,1,1,1,1,1,1,1,1,1,1,1,1,1,1,1,1,1,1,1,1,1,1,1,1,1,1,1,1,0,0,0,0,0,0,0,0,0,0,0,0,0,0,0,0,0,0,0,0,0,0,0,0,0,0,0,0,0,0,0,0,0,0,0,0,0,0,0,0,0,0,0,1,1,0,0,0,0,0,0,0,0,0,0,0,0,0,0,0,0,0,0,0,0,0,0,0,0,0,0,0,0,0,0,0,0,0,0,0,0,0,0,0,0,0,0,0,1,1,0,0,0,0,0,0,0,0,0,0,0,0,0,0,0,0,0,0,0,0,0,0,0,0,0,0,0,0,0,0,0,0,0,0,0,0,0,0,0,0,0,0,0,1,1,0,0,0,0,0,0,0,0,0,0,0,0,0,0,0,0,0,0,0,0,0,0,0,0,0,0,0,0,0,0,0,0,0,0,0,0,0,0,0,0,0,0,0,1,1,0,0,0,0,0,0,0,0,0,0,0,0,0,0,0,0,0,0,0,0,0,0,0,0,0,0,0,0,0,0,0,0,0,0,0,0,0,0,0,0,0,0,0,1,1,0,0,0,0,0,0,0,0,0,0,0,0,0,0,0,0,0,0,0,0,0,0,0,0,0,0,0,0,0,0,0,0,0,0,0,0,0,0,0,0,0,0,0,1,1,0,0,0,0,0,0,0,0,0,0,0,0,0,0,0,0,0,0,0,0,0,0,0,0,0,0,0,0,0,0,0,0,0,0,0,0,0,0,0,0,0,0,0,1,1,0,0,0,0,0,0,0,0,0,0,0,0,0,0,0,0,0,0,0,0,0,0,0,0,0,0,0,0,0,0,0,0,0,0,0,0,0,0,0,0,0,0,0,1,1,0,0,0,0,0,0,0,0,0,0,0,0,0,0,0,0,0,0,0,0,0,0,0,0,0,0,0,0,0,0,0,0,0,0,0,0,0,0,0,0,0,0,0,1,1,0,0,0,0,0,0,0,0,0,0,0,0,0,0,0,0,0,0,0,0,0,0,0,0,0,0,0,0,0,0,0,0,0,0,0,0,0,0,0,0,0,0,0,1,1,0,0,0,0,0,0,0,0,0,0,0,0,0,0,0,0,0,0,0,0,0,0,0,0,0,0,0,0,0,0,0,0,0,0,0,0,0,0,0,0,0,0,0,1,1,0,0,0,0,0,0,0,0,0,0,0,0,0,0,0,0,0,0,0,0,0,0,0,0,0,0,0,0,0,0,0,0,0,0,0,0,0,0,0,0,0,0,0,1,1,0,0,0,0,0,0,0,0,0,0,0,0,0,0,0,0,0,0,0,0,0,0,0,0,0,0,0,0,0,0,0,0,0,0,0,0,0,0,0,0,0,0,0,1,1,0,0,0,0,0,0,0,0,0,0,0,0,0,0,0,0,0,0,0,0,0,0,0,0,0,0,0,0,0,0,0,0,0,0,0,0,0,0,0,0,0,0,0,1,1,0,0,0,0,0,0,0,0,0,0,0,0,0,0,0,0,0,0,0,0,0,0,0,0,0,0,0,0,0,0,0,0,0,0,0,0,0,0,0,0,0,0,0,1,1,0,0,0,0,0,0,0,0,0,0,0,0,0,0,0,0,0,0,0,0,0,0,0,0,0,0,0,0,0,0,0,0,0,0,0,0,0,0,0,0,0,0,0,1,1,0,0,0,0,0,0,0,0,0,0,0,0,0,0,0,0,0,0,0,0,0,0,0,0,0,0,0,0,0,0,0,0,0,0,0,0,0,0,0,0,0,0,0,1,1,0,0,0,0,0,0,0,0,0,0,0,0,0,0,0,0,0,0,0,0,0,0,0,0,0,0,2,0,0,0,0,0,0,0,0,0,0,0,0,0,0,0,0,1,1,0,0,0,0,0,0,0,0,0,0,0,0,0,0,0,0,0,0,0,0,0,0,0,0,0,0,0,0,0,0,0,0,0,0,0,0,0,0,0,0,0,0,0,1,1,0,0,0,0,0,0,0,0,0,0,0,0,0,0,0,0,0,0,0,0,0,0,0,0,0,0,0,0,0,0,0,0,0,0,0,0,0,0,0,0,0,0,0,1,1,0,0,0,0,0,0,0,0,0,0,0,0,0,0,0,0,0,0,0,4,0,0,0,0,0,0,0,0,0,0,0,0,0,0,0,0,0,0,0,0,0,0,0,1,1,0,0,0,0,0,0,0,0,0,0,0,0,0,0,0,0,0,0,0,0,0,0,0,0,0,0,0,0,0,0,0,0,0,0,0,0,0,0,0,0,0,0,0,1,1,0,0,0,0,0,0,0,0,0,0,0,0,0,0,0,0,0,0,0,0,0,0,0,0,0,0,0,0,0,0,0,0,0,0,0,0,0,0,0,0,0,0,0,1,1,0,0,0,0,0,0,0,0,0,0,0,0,0,0,0,0,0,0,0,0,0,3,0,0,0,0,0,0,0,0,0,0,0,0,0,0,0,0,0,0,0,0,0,1,1,0,0,0,0,0,0,0,0,0,0,0,0,0,0,0,0,0,0,0,0,0,0,0,0,0,0,0,0,0,0,0,0,0,0,0,0,0,0,0,0,0,0,0,1'"
      ]
     },
     "execution_count": 2,
     "metadata": {},
     "output_type": "execute_result"
    }
   ],
   "source": [
    "input_grid = \"1,1,1,1,1,1,1,1,1,1,1,1,1,1,1,1,1,1,1,1,1,1,1,1,1,1,1,1,1,1,1,1,1,1,1,1,1,1,1,1,1,1,1,1,1,1,0,0,0,0,0,0,0,0,0,0,0,0,0,0,0,0,0,0,0,0,0,0,0,0,0,0,0,0,0,0,0,0,0,0,0,0,0,0,0,0,0,0,0,1,1,0,0,2,2,0,0,0,2,2,2,0,0,0,0,2,0,0,2,2,2,0,2,0,0,2,0,2,0,2,0,2,2,0,0,2,2,0,0,0,0,0,2,0,1,1,0,2,2,0,0,0,2,0,2,2,0,2,0,2,2,0,0,2,0,0,0,2,0,0,0,0,2,0,0,0,0,0,0,0,2,0,0,2,2,2,2,0,0,1,1,0,2,0,2,2,0,0,2,2,2,2,0,2,0,2,0,0,2,0,0,0,2,0,2,2,0,2,0,0,2,2,2,0,2,0,0,0,2,0,0,0,2,0,1,1,0,2,0,0,0,2,0,0,2,0,2,0,0,0,0,2,0,2,2,0,2,0,2,0,2,0,2,0,0,0,0,2,0,0,2,0,0,2,0,0,0,0,0,1,1,0,2,0,2,0,0,0,2,0,2,2,0,0,0,2,0,0,2,0,0,0,0,2,2,2,0,0,2,0,2,2,0,2,2,0,2,0,0,0,0,2,0,0,1,1,0,2,0,2,0,0,2,0,0,0,0,0,2,0,2,0,2,0,0,0,2,0,0,2,0,0,2,0,0,0,0,2,0,2,0,0,0,2,2,0,2,0,0,1,1,0,2,0,0,0,2,0,2,2,0,0,0,0,2,0,0,2,0,0,2,0,0,0,2,0,2,0,2,0,2,0,0,0,0,2,2,2,0,0,0,0,2,0,1,1,0,2,0,2,0,2,2,0,2,2,2,2,2,0,0,0,2,0,0,2,0,0,0,0,0,0,0,2,2,2,0,2,2,0,0,0,0,0,2,0,2,2,0,1,1,0,0,0,2,2,0,2,2,2,2,0,0,2,2,0,2,0,0,2,2,0,0,2,0,2,0,2,0,0,2,0,0,0,0,0,0,0,0,0,0,2,0,0,1,1,0,2,0,2,0,2,0,2,2,2,0,0,2,2,2,2,0,0,2,2,2,0,0,0,2,0,0,2,2,2,2,2,0,2,0,2,2,0,2,2,2,2,0,1,1,0,2,0,0,0,2,0,0,0,0,0,0,2,0,2,0,0,0,0,0,0,0,0,0,2,2,2,0,0,0,2,2,0,2,0,0,0,2,0,0,2,0,0,1,1,0,2,0,2,0,2,0,2,0,2,0,2,2,2,2,0,0,0,0,2,2,0,2,0,0,2,0,0,2,0,0,0,0,2,2,2,2,0,2,2,0,2,0,1,1,0,0,0,2,2,0,0,0,0,2,2,2,0,0,0,2,2,0,2,0,0,2,2,2,2,0,2,0,0,0,0,2,0,0,0,0,2,0,2,2,2,0,0,1,1,0,2,2,0,2,0,0,0,0,0,0,2,2,0,0,2,0,0,2,2,0,2,0,0,0,0,2,2,0,2,0,2,2,0,0,0,0,0,0,2,0,0,0,1,1,0,2,0,2,2,0,0,2,0,0,2,0,2,2,2,2,2,0,2,0,0,2,2,0,2,0,2,2,0,0,0,0,2,0,2,2,0,2,0,0,0,0,0,1,1,0,0,0,0,2,2,0,2,2,2,0,0,0,0,2,0,2,2,2,0,2,0,0,2,2,0,2,0,0,0,2,0,0,0,2,2,0,0,0,0,0,0,0,1,1,0,0,0,0,0,0,0,2,0,0,2,0,0,0,2,0,2,0,0,0,2,0,2,2,0,0,2,0,2,0,2,2,0,2,0,0,2,0,0,2,2,0,0,1,1,0,0,2,0,0,2,0,0,2,0,0,2,2,0,0,0,0,0,2,2,0,2,2,0,0,0,0,0,2,0,0,2,2,0,0,0,2,0,0,2,0,0,0,1,1,0,0,0,0,0,0,0,0,0,0,0,0,0,0,0,0,0,0,0,0,0,0,0,0,0,0,0,0,0,0,0,0,0,0,0,0,0,0,0,0,0,0,0,1,1,0,0,0,0,0,0,0,0,0,0,0,0,0,0,0,0,0,0,0,4,0,0,0,0,0,0,0,0,0,0,0,0,0,0,0,0,0,0,0,0,0,0,0,1,1,0,0,0,0,0,0,0,0,0,0,0,0,0,0,0,0,0,0,0,0,0,0,0,0,0,0,0,0,0,0,0,0,0,0,0,0,0,0,0,0,0,0,0,1,1,0,0,0,0,0,0,0,0,0,0,0,0,0,0,0,0,0,0,0,0,0,0,0,0,0,0,0,0,0,0,0,0,0,0,0,0,0,0,0,0,0,0,0,1,1,0,0,0,0,0,0,0,0,0,0,0,0,0,0,0,0,0,0,0,0,0,3,0,0,0,0,0,0,0,0,0,0,0,0,0,0,0,0,0,0,0,0,0,1,1,0,0,0,0,0,0,0,0,0,0,0,0,0,0,0,0,0,0,0,0,0,0,0,0,0,0,0,0,0,0,0,0,0,0,0,0,0,0,0,0,0,0,0,1\"\n",
    "input_grid = input_grid.replace('2', '0')\n",
    "split = input_grid.split(',')\n",
    "split[837] = '2'\n",
    "input_grid = \",\".join(split)\n",
    "\n",
    "input_grid"
   ]
  },
  {
   "cell_type": "markdown",
   "metadata": {},
   "source": [
    "Let's load the new field and check that it contains only a single block."
   ]
  },
  {
   "cell_type": "code",
   "execution_count": 7,
   "metadata": {},
   "outputs": [],
   "source": [
    "import numpy as np\n",
    "\n",
    "def render(screen, screen_size=(26, 45)):\n",
    "    rendered = np.empty(screen_size, dtype=int)\n",
    "    for pixel, val in screen.items():\n",
    "        if pixel.imag != 1.:\n",
    "            r, c = -int(pixel.imag), int(pixel.real)\n",
    "            rendered[r, c] = val\n",
    "    return rendered"
   ]
  },
  {
   "cell_type": "code",
   "execution_count": 8,
   "metadata": {},
   "outputs": [],
   "source": [
    "from puzzle13 import run, prints2screen"
   ]
  },
  {
   "cell_type": "code",
   "execution_count": 9,
   "metadata": {},
   "outputs": [],
   "source": [
    "program = list(map(int, open('data/input13modified').read().split(',')))\n",
    "state, prints, is_finished = run(program, input_values=[])\n",
    "screen = prints2screen(prints)\n",
    "arr = render(screen)"
   ]
  },
  {
   "cell_type": "code",
   "execution_count": 10,
   "metadata": {},
   "outputs": [],
   "source": [
    "import matplotlib.pyplot as plt\n",
    "%matplotlib widget"
   ]
  },
  {
   "cell_type": "code",
   "execution_count": 11,
   "metadata": {},
   "outputs": [
    {
     "data": {
      "application/vnd.jupyter.widget-view+json": {
       "model_id": "9b7d761745b74d5290903c4df9dd64c8",
       "version_major": 2,
       "version_minor": 0
      },
      "text/plain": [
       "Canvas(toolbar=Toolbar(toolitems=[('Home', 'Reset original view', 'home', 'home'), ('Back', 'Back to previous …"
      ]
     },
     "metadata": {},
     "output_type": "display_data"
    },
    {
     "data": {
      "text/plain": [
       "<matplotlib.image.AxesImage at 0x1d489878e80>"
      ]
     },
     "execution_count": 11,
     "metadata": {},
     "output_type": "execute_result"
    }
   ],
   "source": [
    "fig, ax = plt.subplots()\n",
    "ax.imshow(arr)"
   ]
  },
  {
   "cell_type": "markdown",
   "metadata": {},
   "source": [
    "Now, let's run the game."
   ]
  },
  {
   "cell_type": "code",
   "execution_count": 12,
   "metadata": {},
   "outputs": [],
   "source": [
    "input_values = [0, 0, 0, 0, 0, 0, 0, 0, 0]\n",
    "program[0] = 2\n",
    "state, prints, is_finished = run(program, input_values=input_values)"
   ]
  },
  {
   "cell_type": "code",
   "execution_count": 13,
   "metadata": {},
   "outputs": [
    {
     "data": {
      "text/plain": [
       "False"
      ]
     },
     "execution_count": 13,
     "metadata": {},
     "output_type": "execute_result"
    }
   ],
   "source": [
    "is_finished"
   ]
  },
  {
   "cell_type": "code",
   "execution_count": 14,
   "metadata": {},
   "outputs": [
    {
     "data": {
      "application/vnd.jupyter.widget-view+json": {
       "model_id": "1b0cf012753f402fa11a91fa4de65507",
       "version_major": 2,
       "version_minor": 0
      },
      "text/plain": [
       "Canvas(toolbar=Toolbar(toolitems=[('Home', 'Reset original view', 'home', 'home'), ('Back', 'Back to previous …"
      ]
     },
     "metadata": {},
     "output_type": "display_data"
    },
    {
     "data": {
      "text/plain": [
       "<matplotlib.image.AxesImage at 0x1d48d03e278>"
      ]
     },
     "execution_count": 14,
     "metadata": {},
     "output_type": "execute_result"
    }
   ],
   "source": [
    "screen = prints2screen(prints)\n",
    "arr = render(screen)\n",
    "fig, ax = plt.subplots()\n",
    "ax.imshow(arr)"
   ]
  },
  {
   "cell_type": "code",
   "execution_count": 17,
   "metadata": {},
   "outputs": [],
   "source": [
    "def prints2score(prints):\n",
    "    screen = dict()\n",
    "    for x, y, tile_id in zip(prints[::3], prints[1::3], prints[2::3]):\n",
    "        if x == -1:\n",
    "            print(f\"score: {tile_id}\")"
   ]
  },
  {
   "cell_type": "code",
   "execution_count": 18,
   "metadata": {},
   "outputs": [
    {
     "name": "stdout",
     "output_type": "stream",
     "text": [
      "score: 0\n",
      "score: 34\n"
     ]
    }
   ],
   "source": [
    "prints2score(prints)"
   ]
  },
  {
   "cell_type": "code",
   "execution_count": 19,
   "metadata": {},
   "outputs": [
    {
     "data": {
      "text/plain": [
       "10404"
      ]
     },
     "execution_count": 19,
     "metadata": {},
     "output_type": "execute_result"
    }
   ],
   "source": [
    "306 * 34 # 10404 answer is too low"
   ]
  },
  {
   "cell_type": "markdown",
   "metadata": {},
   "source": [
    "# Let's inspect the first few block scores "
   ]
  },
  {
   "cell_type": "code",
   "execution_count": 20,
   "metadata": {},
   "outputs": [
    {
     "name": "stdout",
     "output_type": "stream",
     "text": [
      "score: 0\n",
      "score: 34\n",
      "score: 50\n",
      "score: 96\n",
      "score: 106\n",
      "score: 125\n",
      "score: 164\n"
     ]
    },
    {
     "data": {
      "text/plain": [
       "(False, None)"
      ]
     },
     "execution_count": 20,
     "metadata": {},
     "output_type": "execute_result"
    }
   ],
   "source": [
    "program = list(map(int, open('data/input13').read().split(',')))\n",
    "program[0] = 2\n",
    "state, prints, is_finished = run(program, input_values=[0,\n",
    " 0,\n",
    " 0,\n",
    " 0,\n",
    " 0,\n",
    " 0,\n",
    " 0,\n",
    " 0,\n",
    " 0,\n",
    " 0,\n",
    " 0,\n",
    " -1,\n",
    " -1,\n",
    " -1,\n",
    " -1,\n",
    " -1,\n",
    " -1,\n",
    " -1,\n",
    " -1,\n",
    " -1,\n",
    " -1,\n",
    " -1,\n",
    " -1,\n",
    " -1,\n",
    " -1,\n",
    " 0,\n",
    " 1,\n",
    " 1,\n",
    " 1,\n",
    " -1,\n",
    " 0,\n",
    " 0,\n",
    " 0,\n",
    " 0,\n",
    " -1,\n",
    " 0,\n",
    " 0,\n",
    " -1,\n",
    " 0])\n",
    "is_finished, prints2score(prints)"
   ]
  },
  {
   "cell_type": "code",
   "execution_count": 21,
   "metadata": {},
   "outputs": [
    {
     "data": {
      "text/plain": [
       "(34, 16, 46, 10, 19, 39)"
      ]
     },
     "execution_count": 21,
     "metadata": {},
     "output_type": "execute_result"
    }
   ],
   "source": [
    "34, 50 - 34, 96 - 50, 106 - 96, 125 - 106, 164 - 125"
   ]
  }
 ],
 "metadata": {
  "kernelspec": {
   "display_name": "Python 3",
   "language": "python",
   "name": "python3"
  },
  "language_info": {
   "codemirror_mode": {
    "name": "ipython",
    "version": 3
   },
   "file_extension": ".py",
   "mimetype": "text/x-python",
   "name": "python",
   "nbconvert_exporter": "python",
   "pygments_lexer": "ipython3",
   "version": "3.7.3"
  }
 },
 "nbformat": 4,
 "nbformat_minor": 2
}
